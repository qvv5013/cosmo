{
 "cells": [
  {
   "cell_type": "code",
   "execution_count": 1,
   "metadata": {},
   "outputs": [
    {
     "name": "stderr",
     "output_type": "stream",
     "text": [
      "Warning: importing 'simtk.openmm' is deprecated.  Import 'openmm' instead.\n"
     ]
    }
   ],
   "source": [
    "import argparse\n",
    "import configparser\n",
    "import time\n",
    "import warnings\n",
    "from distutils.util import strtobool\n",
    "from json import loads\n",
    "from sys import stdout\n",
    "\n",
    "import numpy as np\n",
    "from openmm import *\n",
    "from openmm.app import *\n",
    "from parmed.exceptions import OpenMMWarning"
   ]
  },
  {
   "cell_type": "code",
   "execution_count": 2,
   "metadata": {},
   "outputs": [],
   "source": [
    "import hps"
   ]
  },
  {
   "cell_type": "code",
   "execution_count": 3,
   "metadata": {},
   "outputs": [],
   "source": [
    "warnings.filterwarnings(\"ignore\", category=OpenMMWarning)"
   ]
  },
  {
   "cell_type": "code",
   "execution_count": 4,
   "metadata": {},
   "outputs": [
    {
     "data": {
      "text/plain": [
       "['md.ini']"
      ]
     },
     "execution_count": 4,
     "metadata": {},
     "output_type": "execute_result"
    }
   ],
   "source": [
    "config = configparser.ConfigParser(inline_comment_prefixes=(\"#\", \";\"))\n",
    "config.read('md.ini')"
   ]
  },
  {
   "cell_type": "code",
   "execution_count": 5,
   "metadata": {},
   "outputs": [
    {
     "data": {
      "text/plain": [
       "'\\nEnd of reading parameters\\n'"
      ]
     },
     "execution_count": 5,
     "metadata": {},
     "output_type": "execute_result"
    }
   ],
   "source": [
    "params = config['DEFAULT']\n",
    "# Reading parameters\n",
    "md_steps = int(params['md_steps'])\n",
    "dt = float(params['dt']) * unit.picoseconds\n",
    "nstxout = int(params['nstxout'])\n",
    "nstlog = int(params['nstlog'])\n",
    "model = params['model']\n",
    "ref_t = float(params['ref_t']) * unit.kelvin\n",
    "tau_t = float(params['tau_t']) / unit.picoseconds\n",
    "pbc = strtobool(params['pbc'])\n",
    "if pbc:\n",
    "    box_dimension = loads(params['box_dimension'])\n",
    "else:\n",
    "    box_dimension = None\n",
    "\n",
    "protein_code = params['protein_code']\n",
    "checkpoint = params['checkpoint']\n",
    "pdb_file = params['pdb_file']\n",
    "machine = params['machine']\n",
    "device = params['device']\n",
    "ppn = params['ppn']\n",
    "restart = strtobool(params['restart'])\n",
    "if not restart:\n",
    "    minimize = strtobool(params['minimize'])\n",
    "else:\n",
    "    minimize = False\n",
    "\"\"\"\n",
    "End of reading parameters\n",
    "\"\"\"\n"
   ]
  },
  {
   "cell_type": "code",
   "execution_count": 6,
   "metadata": {},
   "outputs": [
    {
     "name": "stdout",
     "output_type": "stream",
     "text": [
      "Generating CA hps for structure file asyn.pdb\n",
      "\n",
      "Setting up geometrical parameters:\n",
      "_________________________________\n",
      "Keeping only alpha carbon atoms in topology\n",
      "Added 140 CA atoms\n",
      "Setting alpha-carbon masses to their average residue mass.\n",
      "Setting alpha-carbon atoms radii to their statistical residue radius.\n",
      "Setting alpha-carbon charge to their residue charge.\n",
      "Setting hydropathy scale to their residue, Using hps_kr scale.\n",
      "Added 139 bonds\n",
      "Adding default bond force constant...\n",
      "\n",
      "_________________________________\n",
      "Adding Forces:\n",
      "Added Harmonic Bond Forces\n",
      "Added Yukawa Force\n",
      "Added PairWise Force\n",
      "\n",
      "_________________________________\n",
      "Creating System Object:\n",
      "Checking large bonds ...\n",
      "All bonds seem to be OK (less than threshold: 0.5 nm)\n",
      "\n",
      "_________________________________\n",
      "Energy from initial structure (input structure):\n",
      "The Potential Energy of the system is : -51.987186431884766 kJ/mol\n",
      "The Harmonic Bond Energy is: 0.026758065447211266 kj/mol\n",
      "The Yukawa Energy is: 7.3455705642700195 kj/mol\n",
      "The PairWise Energy is: -59.35951232910156 kj/mol\n",
      "\n",
      "_________________________________\n",
      "Perform energy minimization ...\n",
      "All forces are less than 10.00 kj/mol/nm\n",
      "______________________\n",
      "After minimisation:\n",
      "The Potential Energy of the system (after minimized) is : -51.987186431884766 kJ/mol\n",
      "The Harmonic Bond Energy is: 0.026758065447211266 kj/mol\n",
      "The Yukawa Energy is: 7.3455705642700195 kj/mol\n",
      "The PairWise Energy is: -59.35951232910156 kj/mol\n",
      "\n",
      "Saving minimized positions\n",
      "______________________\n",
      "\n",
      "OpenMM system Object created\n",
      "\n"
     ]
    }
   ],
   "source": [
    "cgModel = hps.models.buildHPSModel(pdb_file, minimize=minimize, hps_scale=model, box_dimension=box_dimension)"
   ]
  },
  {
   "cell_type": "code",
   "execution_count": 7,
   "metadata": {},
   "outputs": [
    {
     "name": "stdout",
     "output_type": "stream",
     "text": [
      "Checking large bonds ...\n",
      "All bonds seem to be OK (less than threshold: 0.5 nm)\n",
      "\n"
     ]
    }
   ],
   "source": [
    "cgModel.checkBondDistances()"
   ]
  },
  {
   "cell_type": "code",
   "execution_count": 16,
   "metadata": {},
   "outputs": [
    {
     "data": {
      "text/plain": [
       "'epsilon'"
      ]
     },
     "execution_count": 16,
     "metadata": {},
     "output_type": "execute_result"
    }
   ],
   "source": [
    "cgModel.ashbaugh_HatchForce.getGlobalParameterName(0)"
   ]
  },
  {
   "cell_type": "code",
   "execution_count": 12,
   "metadata": {},
   "outputs": [
    {
     "data": {
      "text/plain": [
       "0.8368"
      ]
     },
     "execution_count": 12,
     "metadata": {},
     "output_type": "execute_result"
    }
   ],
   "source": [
    "cgModel.ashbaugh_HatchForce.getGlobalParameterDefaultValue(0)"
   ]
  },
  {
   "cell_type": "code",
   "execution_count": 13,
   "metadata": {},
   "outputs": [],
   "source": [
    "cgModel.epsilon = 1"
   ]
  },
  {
   "cell_type": "code",
   "execution_count": 14,
   "metadata": {},
   "outputs": [
    {
     "data": {
      "text/plain": [
       "0.8368"
      ]
     },
     "execution_count": 14,
     "metadata": {},
     "output_type": "execute_result"
    }
   ],
   "source": [
    "cgModel.ashbaugh_HatchForce.getGlobalParameterDefaultValue(0)"
   ]
  },
  {
   "cell_type": "code",
   "execution_count": 17,
   "metadata": {},
   "outputs": [],
   "source": [
    "cgModel.ashbaugh_HatchForce.setGlobalParameterDefaultValue(0,2)"
   ]
  },
  {
   "cell_type": "code",
   "execution_count": 18,
   "metadata": {},
   "outputs": [
    {
     "data": {
      "text/plain": [
       "2.0"
      ]
     },
     "execution_count": 18,
     "metadata": {},
     "output_type": "execute_result"
    }
   ],
   "source": [
    "cgModel.ashbaugh_HatchForce.getGlobalParameterDefaultValue(0)"
   ]
  },
  {
   "cell_type": "code",
   "execution_count": null,
   "metadata": {},
   "outputs": [],
   "source": []
  }
 ],
 "metadata": {
  "kernelspec": {
   "display_name": "Python 3 (ipykernel)",
   "language": "python",
   "name": "python3"
  },
  "language_info": {
   "codemirror_mode": {
    "name": "ipython",
    "version": 3
   },
   "file_extension": ".py",
   "mimetype": "text/x-python",
   "name": "python",
   "nbconvert_exporter": "python",
   "pygments_lexer": "ipython3",
   "version": "3.9.13"
  }
 },
 "nbformat": 4,
 "nbformat_minor": 4
}
